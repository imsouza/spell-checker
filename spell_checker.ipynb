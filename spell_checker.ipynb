{
  "nbformat": 4,
  "nbformat_minor": 0,
  "metadata": {
    "colab": {
      "provenance": [],
      "toc_visible": true
    },
    "kernelspec": {
      "name": "python3",
      "display_name": "Python 3"
    },
    "language_info": {
      "name": "python"
    }
  },
  "cells": [
    {
      "cell_type": "markdown",
      "source": [
        "# Import libraries\n"
      ],
      "metadata": {
        "id": "M3d4PuWHrPb6"
      }
    },
    {
      "cell_type": "code",
      "source": [
        "import nltk \n",
        "nltk.download('punkt')\n",
        "import urllib3\n",
        "import pandas as pd\n",
        "import seaborn as sns\n",
        "import matplotlib.pyplot as plt"
      ],
      "metadata": {
        "colab": {
          "base_uri": "https://localhost:8080/"
        },
        "id": "VLwSZY-arS18",
        "outputId": "03255838-d948-4dad-ddc1-3d39c547bd83"
      },
      "execution_count": null,
      "outputs": [
        {
          "output_type": "stream",
          "name": "stderr",
          "text": [
            "[nltk_data] Downloading package punkt to /root/nltk_data...\n",
            "[nltk_data]   Package punkt is already up-to-date!\n"
          ]
        }
      ]
    },
    {
      "cell_type": "markdown",
      "source": [
        "# Corpus pre-processing"
      ],
      "metadata": {
        "id": "_KkvgZw1l61p"
      }
    },
    {
      "cell_type": "code",
      "execution_count": null,
      "metadata": {
        "id": "gOEDNlxHk5yp"
      },
      "outputs": [],
      "source": [
        "corpus = \"https://github.com/imsouza/spell-checker/blob/main/corpus/data.txt?raw=true\"\n",
        "\n",
        "http = urllib3.PoolManager()\n",
        "response = http.request('GET', corpus)\n",
        "data = response.data.decode('utf-8')"
      ]
    },
    {
      "cell_type": "code",
      "source": [
        "data = data[:1000000]"
      ],
      "metadata": {
        "id": "kworm4unKaxN"
      },
      "execution_count": null,
      "outputs": []
    },
    {
      "cell_type": "markdown",
      "source": [
        "## Tokenization"
      ],
      "metadata": {
        "id": "yZlny_DLBjLg"
      }
    },
    {
      "cell_type": "code",
      "source": [
        "def split_words(tokens):\n",
        "  wordlist = []\n",
        "  for token in tokens:\n",
        "      if token.isalpha():\n",
        "          wordlist.append(token)\n",
        "  return wordlist"
      ],
      "metadata": {
        "id": "xc8GxVMOCErx"
      },
      "execution_count": null,
      "outputs": []
    },
    {
      "cell_type": "code",
      "source": [
        "tokens = nltk.tokenize.word_tokenize(data)\n",
        "wordlist = split_words(tokens)"
      ],
      "metadata": {
        "id": "a-p-paN1Bjqu"
      },
      "execution_count": null,
      "outputs": []
    },
    {
      "cell_type": "markdown",
      "source": [
        "## Normalization"
      ],
      "metadata": {
        "id": "jJiN7wddUJw4"
      }
    },
    {
      "cell_type": "code",
      "source": [
        "def normalization(wordlist):\n",
        "  normalized_wordlist = []\n",
        "  for word in wordlist:\n",
        "      normalized_wordlist.append(word.lower())\n",
        "  return normalized_wordlist"
      ],
      "metadata": {
        "id": "lz2FfBLoUNm6"
      },
      "execution_count": null,
      "outputs": []
    },
    {
      "cell_type": "code",
      "source": [
        "normalized_wordlist = set(normalization(wordlist))\n",
        "len(normalized_wordlist)"
      ],
      "metadata": {
        "colab": {
          "base_uri": "https://localhost:8080/"
        },
        "id": "kEABHAuMWNu0",
        "outputId": "0e660d41-ea2a-404a-a196-aee749eab2b0"
      },
      "execution_count": null,
      "outputs": [
        {
          "output_type": "execute_result",
          "data": {
            "text/plain": [
              "18840"
            ]
          },
          "metadata": {},
          "execution_count": 77
        }
      ]
    },
    {
      "cell_type": "markdown",
      "source": [
        "# Spell Checker algorithm"
      ],
      "metadata": {
        "id": "NeutjONFYqnB"
      }
    },
    {
      "cell_type": "code",
      "source": [
        "def insert_letters(slices):\n",
        "  new_words = []\n",
        "  alphabet = 'abcdefghijklmnopqrstuvwxyzàáâãèéêìíîòóôõùúûç'\n",
        "  for left, right in slices:\n",
        "      for letter in alphabet:\n",
        "          new_words.append(left + letter + right)\n",
        "  return new_words"
      ],
      "metadata": {
        "id": "XBbojmbGfBRP"
      },
      "execution_count": null,
      "outputs": []
    },
    {
      "cell_type": "code",
      "source": [
        "def swap_letters(slices):\n",
        "  new_words = []\n",
        "  alphabet = 'abcdefghijklmnopqrstuvwxyzàáâãèéêìíîòóôõùúûç'\n",
        "  for left, right in slices:\n",
        "      for letter in alphabet:\n",
        "          new_words.append(left + letter + right[1:])\n",
        "  return new_words"
      ],
      "metadata": {
        "id": "W3B1CCvurqEo"
      },
      "execution_count": null,
      "outputs": []
    },
    {
      "cell_type": "code",
      "source": [
        "def reverse_letters(slices):\n",
        "  new_words = []\n",
        "  alphabet = 'abcdefghijklmnopqrstuvwxyzàáâãèéêìíîòóôõùúûç'\n",
        "  for left, right in slices:\n",
        "      if len(right) > 1:\n",
        "        new_words.append(left + right[1] + right[0] + right[2:])\n",
        "  return new_words"
      ],
      "metadata": {
        "id": "qHWGa9FVtY-I"
      },
      "execution_count": null,
      "outputs": []
    },
    {
      "cell_type": "code",
      "source": [
        "def delete_letters(slice):\n",
        "  new_words = []\n",
        "  for left, right in slice:\n",
        "      new_words.append(left + right[1:])\n",
        "  return new_words"
      ],
      "metadata": {
        "id": "JrXOFgnNbVRS"
      },
      "execution_count": null,
      "outputs": []
    },
    {
      "cell_type": "code",
      "source": [
        "def word_generator(word):\n",
        "  slices = []\n",
        "  for i in range(len(word)+1):\n",
        "      slices.append((word[:i],word[i:]))\n",
        "  generated_words = insert_letters(slices)\n",
        "  generated_words += delete_letters(slices)\n",
        "  generated_words += swap_letters(slices)\n",
        "  generated_words += reverse_letters(slices)\n",
        "  return generated_words"
      ],
      "metadata": {
        "id": "5CVUU5sSdulC"
      },
      "execution_count": null,
      "outputs": []
    },
    {
      "cell_type": "code",
      "source": [
        "def upgrade_word_generator(generated_words):\n",
        "  new_words = []\n",
        "\n",
        "  for word in generated_words:\n",
        "    new_words += word_generator(word)\n",
        "  return new_words"
      ],
      "metadata": {
        "id": "WtdmSig-9GMI"
      },
      "execution_count": null,
      "outputs": []
    },
    {
      "cell_type": "code",
      "source": [
        "def get_metrics(normalized_wordlist):\n",
        "  frequency = nltk.FreqDist(normalized_wordlist)\n",
        "  total_words = len(normalized_wordlist)\n",
        "  return frequency, total_words"
      ],
      "metadata": {
        "id": "8-99WQF-k5DZ"
      },
      "execution_count": null,
      "outputs": []
    },
    {
      "cell_type": "code",
      "source": [
        "metrics = get_metrics(normalized_wordlist)\n",
        "frequency, total_words = metrics[0], metrics[1]"
      ],
      "metadata": {
        "id": "YpfmZGL08nKA"
      },
      "execution_count": null,
      "outputs": []
    },
    {
      "cell_type": "code",
      "source": [
        "def probability(generated_word):\n",
        "  return frequency[generated_word] / total_words"
      ],
      "metadata": {
        "id": "rMx2Sy4qjBfI"
      },
      "execution_count": null,
      "outputs": []
    },
    {
      "cell_type": "code",
      "source": [
        "def spell_checker(word):\n",
        "  generated_words = word_generator(word)\n",
        "  correct_word = max(generated_words, key=probability)\n",
        "  return correct_word"
      ],
      "metadata": {
        "id": "4ON5g54Qfd6U"
      },
      "execution_count": null,
      "outputs": []
    },
    {
      "cell_type": "code",
      "source": [
        "def upgrade_spell_checker(word):\n",
        "  generated_words = word_generator(word)\n",
        "  updated_generated_word = upgrade_word_generator(generated_words)\n",
        "  all_words = set(generated_words + updated_generated_word)\n",
        "  selected_words = [word]\n",
        "\n",
        "  for word in all_words:\n",
        "    if word in normalized_wordlist:\n",
        "      selected_words.append(word)\n",
        "  correct_word = max(selected_words, key=probability)\n",
        "  return correct_word"
      ],
      "metadata": {
        "id": "8XpO91Eo-Zhb"
      },
      "execution_count": null,
      "outputs": []
    },
    {
      "cell_type": "markdown",
      "source": [
        "# Evaluate algorithm"
      ],
      "metadata": {
        "id": "yvm9kuYRsd4J"
      }
    },
    {
      "cell_type": "code",
      "source": [
        "def split_test_data(file):\n",
        "  test_wordlist = []\n",
        "  f = open(file, \"r\")\n",
        "  for line in f:\n",
        "      correct, wrong = line.split()\n",
        "      test_wordlist.append((correct, wrong))\n",
        "  f.close()\n",
        "  return test_wordlist"
      ],
      "metadata": {
        "id": "Gd3SOxZjsc6r"
      },
      "execution_count": null,
      "outputs": []
    },
    {
      "cell_type": "code",
      "source": [
        "data_tests = split_test_data(\"test.txt\")\n",
        "data_tests"
      ],
      "metadata": {
        "id": "SEBlQFT_0U4F"
      },
      "execution_count": null,
      "outputs": []
    },
    {
      "cell_type": "code",
      "source": [
        "def evaluate(tests, vocabulary, upgrade=False):\n",
        "  \"\"\"\n",
        "  Returns the hit rate (in %), unknown hate (in %) and the total number of words\n",
        "  \"\"\"\n",
        "  words_size = len(tests)\n",
        "  hit = 0\n",
        "  unknown = 0\n",
        "\n",
        "  corrected_word = []\n",
        "\n",
        "  for correct, wrong in tests:\n",
        "    if (upgrade):\n",
        "      corrected_word = upgrade_spell_checker(wrong)\n",
        "    else:\n",
        "      corrected_word = spell_checker(wrong)\n",
        "    unknown += (correct not in vocabulary)\n",
        "\n",
        "    if corrected_word == correct:\n",
        "      hit += 1\n",
        "      \n",
        "  return round(hit*100/words_size, 2), round(unknown*100/words_size, 2), words_size"
      ],
      "metadata": {
        "id": "A8-ywQZFyrFU"
      },
      "execution_count": null,
      "outputs": []
    },
    {
      "cell_type": "markdown",
      "source": [
        "## Evaluate using only the distance of one typing error from the wrong word\n"
      ],
      "metadata": {
        "id": "aQZN1auPCFe9"
      }
    },
    {
      "cell_type": "code",
      "source": [
        "one_distance = evaluate(data_tests, set(normalized_wordlist), upgrade=False)\n",
        "one_distance"
      ],
      "metadata": {
        "colab": {
          "base_uri": "https://localhost:8080/"
        },
        "id": "4P_S-XW3ysAh",
        "outputId": "6dcb9892-0f04-4cce-b59c-6aa636946c0a"
      },
      "execution_count": null,
      "outputs": [
        {
          "output_type": "execute_result",
          "data": {
            "text/plain": [
              "(61.08, 8.65, 185)"
            ]
          },
          "metadata": {},
          "execution_count": 116
        }
      ]
    },
    {
      "cell_type": "markdown",
      "source": [
        "## Evaluate using only the distance of two typing errors from the wrong word"
      ],
      "metadata": {
        "id": "EsjlvtO6DGDB"
      }
    },
    {
      "cell_type": "code",
      "source": [
        "two_distances = evaluate(data_tests, set(normalized_wordlist), upgrade=True)\n",
        "two_distances"
      ],
      "metadata": {
        "colab": {
          "base_uri": "https://localhost:8080/"
        },
        "id": "9APDRpWADy0C",
        "outputId": "694d51be-261d-4197-e4bd-14027ea259a3"
      },
      "execution_count": null,
      "outputs": [
        {
          "output_type": "execute_result",
          "data": {
            "text/plain": [
              "(17.3, 8.65, 185)"
            ]
          },
          "metadata": {},
          "execution_count": 111
        }
      ]
    },
    {
      "cell_type": "markdown",
      "source": [
        "## Plot results"
      ],
      "metadata": {
        "id": "Smk4WtAREYPi"
      }
    },
    {
      "cell_type": "code",
      "source": [
        "dict_1 = {'hit_rate':one_distance[0], 'unknown_rate':one_distance[1], 'total_test_words':one_distance[2]}\n",
        "dict_2 = {'hit_rate':two_distances[0], 'unknown_rate':two_distances[1], 'total_test_words':two_distances[2]}"
      ],
      "metadata": {
        "id": "ezJpz8eVFAHj"
      },
      "execution_count": null,
      "outputs": []
    },
    {
      "cell_type": "code",
      "source": [
        "plt.figure(figsize=(12,6))\n",
        "sns.set_palette('Accent')\n",
        "sns.set_style('darkgrid')\n",
        "\n",
        "df1 = pd.DataFrame(dict_1, index=[0]).assign(Dict='Dict 1')\n",
        "df2 = pd.DataFrame(dict_2, index=[0]).assign(Dict='Dict 2')\n",
        "\n",
        "df_concat = pd.concat([df1, df2], ignore_index=True)\n",
        "df_melt = df_concat.melt(var_name='Metric', value_name='Value', value_vars=['hit_rate', 'unknown_rate'], id_vars=['Dict'])\n",
        "\n",
        "sns.barplot(x='Metric', y='Value', hue='Dict', data=df_melt)\n",
        "\n",
        "plt.xlabel('Metrics', fontsize=14)\n",
        "plt.ylabel('Values (in %)', fontsize=14)\n",
        "plt.title('Comparison of two results for 185 test words each', loc='left',fontsize=18)\n",
        "\n",
        "plt.show()"
      ],
      "metadata": {
        "colab": {
          "base_uri": "https://localhost:8080/",
          "height": 413
        },
        "id": "plYODt_MEwtR",
        "outputId": "df91d089-8f1a-45fd-f0fa-69b8ba5ba370"
      },
      "execution_count": null,
      "outputs": [
        {
          "output_type": "display_data",
          "data": {
            "text/plain": [
              "<Figure size 864x432 with 1 Axes>"
            ],
            "image/png": "[encoded data removed]"
          },
          "metadata": {
            "needs_background": "light"
          }
        }
      ]
    },
    {
      "cell_type": "code",
      "source": [],
      "metadata": {
        "id": "CwK8QCQgKY4l"
      },
      "execution_count": null,
      "outputs": []
    }
  ]
}